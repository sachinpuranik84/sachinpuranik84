{
 "cells": [
  {
   "cell_type": "markdown",
   "id": "55c49527",
   "metadata": {},
   "source": [
    "Q1: WAP print to check if the number entered by the user is even or odd."
   ]
  },
  {
   "cell_type": "code",
   "execution_count": 14,
   "id": "be34f048",
   "metadata": {},
   "outputs": [
    {
     "name": "stdout",
     "output_type": "stream",
     "text": [
      "Enter Number: 10\n",
      "This is Even Number\n"
     ]
    }
   ],
   "source": [
    "num1 = int(input(\"Enter Number: \"))\n",
    "val = num1 % 2\n",
    "type(val)\n",
    "if val==0:\n",
    "    print(\"This is Even Number\")\n",
    "else:\n",
    "    print(\"THis is odd number\")"
   ]
  },
  {
   "cell_type": "markdown",
   "id": "e5dc1c2e",
   "metadata": {},
   "source": [
    "#Q2 WAP to check which number is greater using if "
   ]
  },
  {
   "cell_type": "code",
   "execution_count": 16,
   "id": "e2b22a70",
   "metadata": {},
   "outputs": [
    {
     "name": "stdout",
     "output_type": "stream",
     "text": [
      "Number 1: 25\n",
      "Number 2: 35\n",
      "num2 is greater than num1\n"
     ]
    }
   ],
   "source": [
    "num1 = int(input(\"Number 1: \"))\n",
    "num2 = int(input(\"Number 2: \"))\n",
    "if num1>num2:\n",
    "    print(\"num1 is greater than num2\")\n",
    "else :\n",
    "    print(\"num2 is greater than num1\")"
   ]
  },
  {
   "cell_type": "markdown",
   "id": "6d54105e",
   "metadata": {},
   "source": [
    "Q3: A shopkeeper gives a discount of 10% if the cost of purchased quantity is more than 1000. WAP to ask user for quantity. Considering one unit will cost 100, calculate the total cost to be paid by the user.\n"
   ]
  },
  {
   "cell_type": "code",
   "execution_count": 21,
   "id": "5497a11c",
   "metadata": {},
   "outputs": [
    {
     "name": "stdout",
     "output_type": "stream",
     "text": [
      "How many item you purchased today: 10\n",
      "User needs to pay 900.0\n"
     ]
    }
   ],
   "source": [
    "quantity = int(input(\"How many item you purchased today: \"))\n",
    "if quantity >= 10:\n",
    "    pay_by_user = ((quantity*100)*(90/100))\n",
    "else :\n",
    "    pay_by_user = (quantity*100)\n",
    "print(\"User needs to pay \"+str(pay_by_user))"
   ]
  },
  {
   "cell_type": "markdown",
   "id": "043294e8",
   "metadata": {},
   "source": []
  },
  {
   "cell_type": "markdown",
   "id": "8a91af4c",
   "metadata": {},
   "source": [
    "Q4: A school has following rules for grading system:\n",
    "\n",
    "Below 25 - F\n",
    "25 to 45 - E\n",
    "45 to 50 - D\n",
    "50 to 60 - C\n",
    "60 to 80 - B\n",
    "Above 80 - A\n",
    "Ask user to enter marks and print the corresponding grade."
   ]
  },
  {
   "cell_type": "code",
   "execution_count": 25,
   "id": "804bf283",
   "metadata": {},
   "outputs": [
    {
     "name": "stdout",
     "output_type": "stream",
     "text": [
      "Enter your marks: 80\n",
      "You are rewarding Grade A\n"
     ]
    }
   ],
   "source": [
    "student_marks = int(input(\"Enter your marks: \"))\n",
    "if student_marks>=80:\n",
    "    print(\"You are rewarding Grade A\")\n",
    "elif student_marks>=60 & student_marks<80:\n",
    "    print(\"You are rewarding Grade B\")\n",
    "elif student_marks>=50 & student_marks<60:\n",
    "    print(\"You are rewarding Grade C\")\n",
    "elif student_marks>=45 & student_marks<50:\n",
    "    print(\"You are rewarding Grade D\")\n",
    "elif student_marks>=25 & student_marks<45:\n",
    "    print(\"You are rewarding Grade E\")\n",
    "else :\n",
    "    print(\"Looks like you Failed, Try Again\")"
   ]
  },
  {
   "cell_type": "code",
   "execution_count": null,
   "id": "d829d37f",
   "metadata": {},
   "outputs": [],
   "source": []
  },
  {
   "cell_type": "code",
   "execution_count": null,
   "id": "ef9a1f9b",
   "metadata": {},
   "outputs": [],
   "source": []
  },
  {
   "cell_type": "code",
   "execution_count": null,
   "id": "1109ca23",
   "metadata": {},
   "outputs": [],
   "source": []
  },
  {
   "cell_type": "code",
   "execution_count": null,
   "id": "09dcad4f",
   "metadata": {},
   "outputs": [],
   "source": []
  },
  {
   "cell_type": "code",
   "execution_count": null,
   "id": "ce85ec6a",
   "metadata": {},
   "outputs": [],
   "source": []
  },
  {
   "cell_type": "code",
   "execution_count": null,
   "id": "adbba7e0",
   "metadata": {},
   "outputs": [],
   "source": []
  },
  {
   "cell_type": "code",
   "execution_count": null,
   "id": "142c6787",
   "metadata": {},
   "outputs": [],
   "source": []
  },
  {
   "cell_type": "code",
   "execution_count": null,
   "id": "bc6f2914",
   "metadata": {},
   "outputs": [],
   "source": []
  },
  {
   "cell_type": "code",
   "execution_count": null,
   "id": "1facb39c",
   "metadata": {},
   "outputs": [],
   "source": []
  },
  {
   "cell_type": "code",
   "execution_count": null,
   "id": "e858007d",
   "metadata": {},
   "outputs": [],
   "source": []
  },
  {
   "cell_type": "code",
   "execution_count": null,
   "id": "485d5c88",
   "metadata": {},
   "outputs": [],
   "source": []
  },
  {
   "cell_type": "code",
   "execution_count": null,
   "id": "87601076",
   "metadata": {},
   "outputs": [],
   "source": []
  },
  {
   "cell_type": "code",
   "execution_count": null,
   "id": "ac2d0322",
   "metadata": {},
   "outputs": [],
   "source": []
  },
  {
   "cell_type": "code",
   "execution_count": null,
   "id": "4c708caf",
   "metadata": {},
   "outputs": [],
   "source": []
  },
  {
   "cell_type": "code",
   "execution_count": null,
   "id": "2a909eec",
   "metadata": {},
   "outputs": [],
   "source": []
  },
  {
   "cell_type": "code",
   "execution_count": null,
   "id": "a51df070",
   "metadata": {},
   "outputs": [],
   "source": []
  },
  {
   "cell_type": "code",
   "execution_count": null,
   "id": "a756d48d",
   "metadata": {},
   "outputs": [],
   "source": []
  },
  {
   "cell_type": "code",
   "execution_count": null,
   "id": "cbd77e7e",
   "metadata": {},
   "outputs": [],
   "source": []
  },
  {
   "cell_type": "code",
   "execution_count": null,
   "id": "65749c12",
   "metadata": {},
   "outputs": [],
   "source": []
  },
  {
   "cell_type": "code",
   "execution_count": null,
   "id": "a7fedaf5",
   "metadata": {},
   "outputs": [],
   "source": []
  },
  {
   "cell_type": "code",
   "execution_count": null,
   "id": "33088e6f",
   "metadata": {},
   "outputs": [],
   "source": []
  },
  {
   "cell_type": "code",
   "execution_count": null,
   "id": "989d7a73",
   "metadata": {},
   "outputs": [],
   "source": []
  }
 ],
 "metadata": {
  "kernelspec": {
   "display_name": "Python 3",
   "language": "python",
   "name": "python3"
  },
  "language_info": {
   "codemirror_mode": {
    "name": "ipython",
    "version": 3
   },
   "file_extension": ".py",
   "mimetype": "text/x-python",
   "name": "python",
   "nbconvert_exporter": "python",
   "pygments_lexer": "ipython3",
   "version": "3.8.8"
  }
 },
 "nbformat": 4,
 "nbformat_minor": 5
}
