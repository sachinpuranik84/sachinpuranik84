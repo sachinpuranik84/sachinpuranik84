{
 "cells": [
  {
   "cell_type": "markdown",
   "id": "22eaca34",
   "metadata": {},
   "source": [
    "Q1. WAP to check if the given number is a palindrome"
   ]
  },
  {
   "cell_type": "code",
   "execution_count": 6,
   "id": "c62aafed",
   "metadata": {},
   "outputs": [
    {
     "name": "stdout",
     "output_type": "stream",
     "text": [
      "chinki\n",
      "This user input: chinki is not Palindrome\n"
     ]
    }
   ],
   "source": [
    "def checkPalindrome(str):\n",
    "    return str == str[::-1]\n",
    "\n",
    "userInput = input()\n",
    "checkstr = checkPalindrome(userInput)\n",
    "if checkstr :\n",
    "    print(\"This user input: \"+userInput+ \" is Palindrome\")\n",
    "else :\n",
    "    print(\"This user input: \"+userInput+ \" is not Palindrome\")"
   ]
  },
  {
   "cell_type": "code",
   "execution_count": null,
   "id": "28e91910",
   "metadata": {},
   "outputs": [],
   "source": []
  },
  {
   "cell_type": "markdown",
   "id": "71c4c77f",
   "metadata": {},
   "source": [
    "Q2. WAP to print multiplication table of the given number"
   ]
  },
  {
   "cell_type": "code",
   "execution_count": 13,
   "id": "1c801cee",
   "metadata": {},
   "outputs": [
    {
     "name": "stdout",
     "output_type": "stream",
     "text": [
      "5\n",
      "5 * 1 = 5\n",
      "5 * 2 = 10\n",
      "5 * 3 = 15\n",
      "5 * 4 = 20\n",
      "5 * 5 = 25\n",
      "5 * 6 = 30\n",
      "5 * 7 = 35\n",
      "5 * 8 = 40\n",
      "5 * 9 = 45\n",
      "5 * 10 = 50\n"
     ]
    }
   ],
   "source": [
    "tableNumber = int(input())\n",
    "for i in range(1,11):\n",
    "    multiples = tableNumber*i\n",
    "    print(str(tableNumber)+ \" * \" + str(i) + \" = \"+str(multiples))"
   ]
  },
  {
   "cell_type": "code",
   "execution_count": null,
   "id": "4afe6c58",
   "metadata": {},
   "outputs": [],
   "source": []
  },
  {
   "cell_type": "markdown",
   "id": "38e3cc72",
   "metadata": {},
   "source": [
    "Q3. WAP to take two lists of numbers from the user and create a new list such that it contains odd numbers from the first list and even numbers from the second list"
   ]
  },
  {
   "cell_type": "code",
   "execution_count": 16,
   "id": "d4e976d4",
   "metadata": {},
   "outputs": [
    {
     "name": "stdout",
     "output_type": "stream",
     "text": [
      "Number of elements8\n",
      "1\n",
      "2\n",
      "3\n",
      "4\n",
      "5\n",
      "6\n",
      "7\n",
      "8\n",
      "mainlist:     [1, 2, 3, 4, 5, 6, 7, 8]\n",
      "sublistEven:  [2, 4, 6, 8]\n",
      "sublistOdd:   [1, 3, 5, 7]\n"
     ]
    }
   ],
   "source": [
    "listingQuantity = int(input(\"Number of elements\"))\n",
    "mainlist=[]\n",
    "\n",
    "for i in range(0,listingQuantity):\n",
    "    element = int(input())\n",
    "    \n",
    "    mainlist.append(element)\n",
    "    \n",
    "\n",
    "sublistEven = []\n",
    "sublistOdd = []\n",
    "\n",
    "for item in mainlist:\n",
    "    if item%2 == 0:\n",
    "        sublistEven.append(item)\n",
    "    else :\n",
    "        sublistOdd.append(item)\n",
    "        \n",
    "# print lists\n",
    "print(\"mainlist:    \", mainlist) \n",
    "print(\"sublistEven: \", sublistEven)\n",
    "print(\"sublistOdd:  \", sublistOdd)"
   ]
  },
  {
   "cell_type": "code",
   "execution_count": null,
   "id": "6327a900",
   "metadata": {},
   "outputs": [],
   "source": []
  },
  {
   "cell_type": "code",
   "execution_count": null,
   "id": "4335cbbb",
   "metadata": {},
   "outputs": [],
   "source": []
  },
  {
   "cell_type": "code",
   "execution_count": null,
   "id": "6a23ab03",
   "metadata": {},
   "outputs": [],
   "source": []
  },
  {
   "cell_type": "code",
   "execution_count": null,
   "id": "9ba30faf",
   "metadata": {},
   "outputs": [],
   "source": []
  },
  {
   "cell_type": "code",
   "execution_count": null,
   "id": "cf1ff07e",
   "metadata": {},
   "outputs": [],
   "source": []
  },
  {
   "cell_type": "code",
   "execution_count": null,
   "id": "5b13ae6f",
   "metadata": {},
   "outputs": [],
   "source": []
  },
  {
   "cell_type": "code",
   "execution_count": null,
   "id": "6daa4abb",
   "metadata": {},
   "outputs": [],
   "source": []
  },
  {
   "cell_type": "code",
   "execution_count": null,
   "id": "00e9ae3f",
   "metadata": {},
   "outputs": [],
   "source": []
  },
  {
   "cell_type": "code",
   "execution_count": null,
   "id": "0ecd43d1",
   "metadata": {},
   "outputs": [],
   "source": []
  },
  {
   "cell_type": "code",
   "execution_count": null,
   "id": "c867709b",
   "metadata": {},
   "outputs": [],
   "source": []
  },
  {
   "cell_type": "code",
   "execution_count": null,
   "id": "a8d6f4f6",
   "metadata": {},
   "outputs": [],
   "source": []
  },
  {
   "cell_type": "code",
   "execution_count": null,
   "id": "36f7b0e2",
   "metadata": {},
   "outputs": [],
   "source": []
  },
  {
   "cell_type": "code",
   "execution_count": null,
   "id": "11d69d29",
   "metadata": {},
   "outputs": [],
   "source": []
  }
 ],
 "metadata": {
  "kernelspec": {
   "display_name": "Python 3",
   "language": "python",
   "name": "python3"
  },
  "language_info": {
   "codemirror_mode": {
    "name": "ipython",
    "version": 3
   },
   "file_extension": ".py",
   "mimetype": "text/x-python",
   "name": "python",
   "nbconvert_exporter": "python",
   "pygments_lexer": "ipython3",
   "version": "3.8.8"
  }
 },
 "nbformat": 4,
 "nbformat_minor": 5
}
